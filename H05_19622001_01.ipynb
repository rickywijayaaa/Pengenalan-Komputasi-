{
 "cells": [
  {
   "cell_type": "code",
   "execution_count": 10,
   "id": "54f64227",
   "metadata": {},
   "outputs": [],
   "source": [
    "# NIM/Nama : 19622001/ Ricky Wijaya\n",
    "# Tanggal : 16 November 2004\n",
    "# Deskripsi : Program 1"
   ]
  },
  {
   "cell_type": "code",
   "execution_count": 11,
   "id": "c19e87f4",
   "metadata": {},
   "outputs": [],
   "source": [
    "import pandas as pd\n",
    "import matplotlib.pyplot as plt"
   ]
  },
  {
   "cell_type": "code",
   "execution_count": 12,
   "id": "262a3799",
   "metadata": {},
   "outputs": [],
   "source": [
    "df = pd.read_csv(\"C:/Users/USER/Desktop/Jupyter Notebook/H05.csv\")"
   ]
  },
  {
   "cell_type": "code",
   "execution_count": 13,
   "id": "1868716f",
   "metadata": {},
   "outputs": [
    {
     "name": "stdout",
     "output_type": "stream",
     "text": [
      "Banyak data:  5135\n"
     ]
    }
   ],
   "source": [
    "print(\"Banyak data: \", len(df))"
   ]
  },
  {
   "cell_type": "code",
   "execution_count": 14,
   "id": "be511b67",
   "metadata": {},
   "outputs": [
    {
     "name": "stdout",
     "output_type": "stream",
     "text": [
      "                             nama fakultas  nilai_mat  nilai_kim  nilai_fis\n",
      "0            Farhan Fathur Rahman    FMIPA      57.21      34.14      38.93\n",
      "1                  Steven Margono    FMIPA      67.43      51.50      57.20\n",
      "2                    Ryan Sentosa    SAPPK      90.62      37.38      40.73\n",
      "3            Muhajah Babny Muslim    FMIPA      72.31      38.80      44.79\n",
      "4                Alvin Natawiguna     FTSL      65.45      57.67      56.39\n",
      "5                   Sasti Safitri     FTSL      60.58      41.91      51.55\n",
      "6             Dani Yulianto Putra     FTSL      51.67      35.05      48.69\n",
      "7  Nabila Febitsukarizky Bunyamin     FTTM      71.66      67.61      69.75\n",
      "8             Ratna Siti Khodijah      FTI      73.06      59.16      59.48\n",
      "9                    Gita Partiwi     FTSL      69.57      38.84      48.17\n"
     ]
    }
   ],
   "source": [
    "print(df[:10])"
   ]
  },
  {
   "cell_type": "code",
   "execution_count": 15,
   "id": "c6f034a7",
   "metadata": {},
   "outputs": [
    {
     "name": "stdout",
     "output_type": "stream",
     "text": [
      "                        nama fakultas  nilai_mat  nilai_kim  nilai_fis\n",
      "49      Alief Rizky Ramadhan    SITHS      84.59      42.44      40.48\n",
      "50      Arief Syakur Sutedjo     FTTM      84.40      61.21      73.91\n",
      "51         Fayi Raihan Saleh    FMIPA      60.62      32.57      42.34\n",
      "52          Erna Kristiawati      FTI      67.48      46.78      52.30\n",
      "53                    Albert    SAPPK      70.27      50.10      54.01\n",
      "54  M Jazztyan Indra Pradana     STEI      53.40      43.06      60.30\n",
      "55      Moch Ginanjar Busiri    FMIPA      74.29      38.44      49.15\n",
      "56              Aisya Tamara     FITB      71.49      35.86      37.41\n",
      "57        Tyas Arum Widayati    SAPPK      68.57      37.02      53.25\n",
      "58                Arif Saleh      FTI     100.00      59.79      55.33\n",
      "59     Windy Diwita Nisaekti      FTI      67.15      57.72      54.24\n"
     ]
    }
   ],
   "source": [
    "print(df[49:60])"
   ]
  },
  {
   "cell_type": "code",
   "execution_count": 16,
   "id": "a7ec400b",
   "metadata": {},
   "outputs": [
    {
     "name": "stdout",
     "output_type": "stream",
     "text": [
      "FTI      834\n",
      "STEI     777\n",
      "FTSL     660\n",
      "FMIPA    627\n",
      "FTTM     579\n",
      "FTMD     480\n",
      "FITB     403\n",
      "SAPPK    315\n",
      "SITHR    282\n",
      "SITHS    178\n",
      "Name: fakultas, dtype: int64\n"
     ]
    }
   ],
   "source": [
    "print(df[\"fakultas\"]. value_counts())"
   ]
  },
  {
   "cell_type": "code",
   "execution_count": 17,
   "id": "17bd82ed",
   "metadata": {},
   "outputs": [
    {
     "name": "stdout",
     "output_type": "stream",
     "text": [
      "0.7988187423880274\n",
      "Karena nilai korelasi mendekati 1 maka nilai fisika dan nilai kimia berkolerasi lurus\n"
     ]
    }
   ],
   "source": [
    "print(df[\"nilai_fis\"]. corr(df[\"nilai_kim\"]))\n",
    "print(\"Karena nilai korelasi mendekati 1 maka nilai fisika dan nilai kimia berkolerasi lurus\")"
   ]
  }
 ],
 "metadata": {
  "kernelspec": {
   "display_name": "Python 3.10.4 64-bit",
   "language": "python",
   "name": "python3"
  },
  "language_info": {
   "codemirror_mode": {
    "name": "ipython",
    "version": 3
   },
   "file_extension": ".py",
   "mimetype": "text/x-python",
   "name": "python",
   "nbconvert_exporter": "python",
   "pygments_lexer": "ipython3",
   "version": "3.10.4"
  },
  "vscode": {
   "interpreter": {
    "hash": "df95319d8ce4e1d89f5365ae10992bc1f65da593082b1d264e8f529830ec2f02"
   }
  }
 },
 "nbformat": 4,
 "nbformat_minor": 5
}
